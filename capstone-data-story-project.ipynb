{
 "cells": [
  {
   "cell_type": "markdown",
   "metadata": {},
   "source": [
    "#Capstone Project: The Data Story of Life Insurance applicants\n",
    "\n",
    "The story of a dataset is important because it needs to show how the date came to flourish and be.  The relationships between the different categories of data is important to understand.  The first step would be to get a high level picture of the data set\n",
    "\n",
    "##Summary of life insurance data set\n",
    "\n",
    "\n",
    "### Data retrieved from: \n",
    "https://www.kaggle.com/c/prudential-life-insurance-assessment\n",
    "\n",
    "\n",
    "### File descriptions:\n",
    "\n",
    "* train.csv - the training set, contains the Response values\n",
    "* test.csv - the test set, you must predict the Response variable for all rows in this file\n",
    "* sample_submission.csv - a sample submission file in the correct format\n",
    "\n",
    "### Data fields:\n",
    "\n",
    "Variable |\tDescription\n",
    "-------- |  ------------\n",
    "Id       |\tA unique identifier associated with an application.\n",
    "Product_Info_1-7 |\tA set of normalized variables relating to the product applied for\n",
    "Ins_Age |\tNormalized age of applicant\n",
    "Ht |\tNormalized height of applicant\n",
    "Wt |\tNormalized weight of applicant\n",
    "BMI |\tNormalized BMI of applicant\n",
    "Employment_Info_1-6 |\tA set of normalized variables relating to the employment history of the applicant.\n",
    "InsuredInfo_1-6 |\tA set of normalized variables providing information about the applicant.\n",
    "Insurance_History_1-9 |\tA set of normalized variables relating to the insurance history of the applicant.\n",
    "Family_Hist_1-5 |\tA set of normalized variables relating to the family history of the applicant.\n",
    "Medical_History_1-41 |\tA set of normalized variables relating to the medical history of the applicant.\n",
    "Medical_Keyword_1-48 |\tA set of dummy variables relating to the presence of/absence of a medical keyword being associated with the application.\n",
    "Response |\tThis is the target variable, an ordinal variable relating to the final decision associated with an application\n",
    "\n",
    "#### Categorical (nominal) data fields\n",
    "\n",
    "Product_Info_1, Product_Info_2, Product_Info_3, Product_Info_5, Product_Info_6, Product_Info_7, Employment_Info_2, Employment_Info_3, Employment_Info_5, InsuredInfo_1, InsuredInfo_2, InsuredInfo_3, InsuredInfo_4, InsuredInfo_5, InsuredInfo_6, InsuredInfo_7, Insurance_History_1, Insurance_History_2, Insurance_History_3, Insurance_History_4, Insurance_History_7, Insurance_History_8, Insurance_History_9, Family_Hist_1, Medical_History_2, Medical_History_3, Medical_History_4, Medical_History_5, Medical_History_6, Medical_History_7, Medical_History_8, Medical_History_9, Medical_History_11, Medical_History_12, Medical_History_13, Medical_History_14, Medical_History_16, Medical_History_17, Medical_History_18, Medical_History_19, Medical_History_20, Medical_History_21, Medical_History_22, Medical_History_23, Medical_History_25, Medical_History_26, Medical_History_27, Medical_History_28, Medical_History_29, Medical_History_30, Medical_History_31, Medical_History_33, Medical_History_34, Medical_History_35, Medical_History_36, Medical_History_37, Medical_History_38, Medical_History_39, Medical_History_40, Medical_History_41\n",
    "\n",
    "#### Continuous data fields\n",
    "\n",
    "Product_Info_4, Ins_Age, Ht, Wt, BMI, Employment_Info_1, Employment_Info_4, Employment_Info_6, Insurance_History_5, Family_Hist_2, Family_Hist_3, Family_Hist_4, Family_Hist_5\n",
    "\n",
    "#### Discrete data fields\n",
    "\n",
    "* Medical_History_1, Medical_History_10, Medical_History_15, Medical_History_24, Medical_History_32\n",
    "* Medical_Keyword_1-48 are dummy variables.\n"
   ]
  },
  {
   "cell_type": "markdown",
   "metadata": {},
   "source": [
    "  1.  Can you count something interesting?\n",
    "      * Yes groupby Product_Info_1, Product_Info_2, Product_Info_3 Response, Ins_Age\n",
    "      * \n",
    "  1.  Can you find some trends (high, low, increase, decrease, anomalies)?\n",
    "  1.  Can you make a bar plot or a histogram?\n",
    "  1. Can you compare two related quantities?\n",
    "  1. Can you make a scatterplot?\n",
    "  1. Can you make a time-series plot?\n"
   ]
  }
 ],
 "metadata": {
  "kernelspec": {
   "display_name": "Python 2",
   "language": "python",
   "name": "python2"
  },
  "language_info": {
   "codemirror_mode": {
    "name": "ipython",
    "version": 2
   },
   "file_extension": ".py",
   "mimetype": "text/x-python",
   "name": "python",
   "nbconvert_exporter": "python",
   "pygments_lexer": "ipython2",
   "version": "2.7.9"
  }
 },
 "nbformat": 4,
 "nbformat_minor": 0
}
