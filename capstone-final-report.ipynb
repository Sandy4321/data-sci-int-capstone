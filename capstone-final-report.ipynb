{
 "cells": [
  {
   "cell_type": "markdown",
   "metadata": {
    "slideshow": {
     "slide_type": "slide"
    }
   },
   "source": [
    "# Analysis of life insurance data to support a data product proposal for an insurance brokerage\n",
    "\n",
    "### Author: Robbie Sharma (robbie.sharma@gmail.com)\n",
    "### Mentor: Hobson Lane (hobsonlane@gmail.com)\n",
    "### Prepared for: Springboard - Data Science Intensive Course \n",
    "### January 2016 - February 2016"
   ]
  },
  {
   "cell_type": "markdown",
   "metadata": {
    "slideshow": {
     "slide_type": "slide"
    }
   },
   "source": [
    "# Introduction\n",
    "\n",
    "Insurance brokers are challenged to retain their client base while growing business in diverse markets.  Personalizing insurance products and providing policies at competitive premiums are primary goals brokers have, although it is key for them to understand what factors can influence claims risk, the future continuance of policies, and the administrative overhead with managing their client policies.\n",
    "\n",
    "For the Data Science Intensive Capstone project, my goal was to understand data wrangling and predictive modelling by machine learning so I can help my insurance broker client meet or exceed their strategic retention and growth goals.  In order to achieve this, I analyzed a life insurance data set offered by Prudential Life Insurance through a competition on Kaggle.com.  By using data analytics and machine learning techniques,  I studied a structured and fairly \"clean\" data set in order to make predictions on the ordinal categorical risk rating based on profiles of life insurance customers.  \n",
    "\n",
    "The premise of this study is to show my client how insurance and customer data can be manipulated to identify important features, trends and statistics in order to make predictions and decisions in meeting their strategic goals.  "
   ]
  },
  {
   "cell_type": "markdown",
   "metadata": {
    "slideshow": {
     "slide_type": "subslide"
    }
   },
   "source": [
    "Considering the life insurance data set, methologies and analytical techniques are shown to identify interesting data features, normalize and transform certain features, and how to apply and tune simple machine learning algorithms for predictive purposes.   \n",
    "\n",
    "Multiple interviews were conducted with the CEO and CFO of the insurance brokerage in order to understand their strategic goals, business processes, and data sources.\n",
    "\n",
    "This report will make useful connections between solving a structured machine learning problem involving the life insurance dataset and how a similar methodology could be applied to the datasets from the insurance brokerage.\n",
    "\n",
    "The project is seperated into sub-sections of discussing the \"Life Insurance\" dataset and machine learning analysis and in discussing the \"Insurance brokerage\" data analytics project in terms of developing a data analytics project.  \n",
    "\n",
    "The conclusion will connect the results and methodologies of the life insurance data set to form the machine learning piece for the insurance brokerages' data analytics project.  "
   ]
  },
  {
   "cell_type": "markdown",
   "metadata": {
    "slideshow": {
     "slide_type": "slide"
    }
   },
   "source": [
    "# Life Insurance: Problem description\n",
    "\n",
    "The goal of the life insurance Kaggle competition, is to solve a multi-classification problem by assigning a categorical (ordinal) risk rating  from 1-9 for a customer profile.  The algorithm accuracy is tested by measuring the quadratic weighted kappa (QWK), the inter-rater agreement between a predicted set to the actual set of risk ratings.  \n",
    "\n",
    "The data set contains 127 features (minus the ID feature) consisting of categorical (ordinal), continuous (normalized), and discrete feature types. There are 48 Medical Keyword features acting as dummy variables with binary, discrete values. \n",
    "\n",
    "The deliverables were a machine learning algorithm for predicting risk response in the Kaggle dataset. \n",
    "\n",
    "An appropriate process would need to be applied to transform the data with useful features selected, a machine learning algorithm implemented and the QWK calculated to determine error in classification.  The top competitors achieved QWK scores of 0.67939."
   ]
  },
  {
   "cell_type": "markdown",
   "metadata": {
    "slideshow": {
     "slide_type": "slide"
    }
   },
   "source": [
    "# Methods & Analysis"
   ]
  },
  {
   "cell_type": "markdown",
   "metadata": {
    "slideshow": {
     "slide_type": "subslide"
    }
   },
   "source": [
    "The following methods and code was written were taken to analyze the data.  The primary goal was to compare Response ratings to the other features in the data set.  \n",
    "\n",
    "   1. Data exploration and plotting\n",
    "       1. The 48 Medical_Keyword_X columns were summed to derive a total medical keyword count feature.\n",
    "       1. Histogram plots of all the features were created to perform a preliminary exploration.\n",
    "       1. The following features were explored in this project in more detail: Ins_Age, Ht, Wt, BMI, Product_Info_2, and Medical_Keyword_Sum\n",
    "       1. Histogram plots and a scatter matrix plot were saved for the features listed above.\n",
    "   1. Data transformation and normalization\n",
    "       1. Replaced alpha-numeric labels in Product_Info_2 with an enumerated dictionary of dummy integers.  \n",
    "       1. Replaced all the NaNs in the dataset with -1.   \n",
    "       1. Normalization based on min max difference of data sets.  \n",
    "           1. Risk rating was normalized to values between 0 and 1.  \n",
    "           1. Product_Info_2 normalized between 0 and 1.\n",
    "           1. Categorical and discrete data sets were normalized to 0 and 1. Elements with a -1 or NaN were normalized to 0.\n",
    "   1. Machine learning\n",
    "       1. Training/Test set\n",
    "           1. 10% of the train.csv data set used for a testing set and 90% used for a training set.        \n",
    "       1. Test and fitting using the following classifiers\n",
    "           1. Linear Model - LASSO\n",
    "           1. Random Forest\n",
    "       1. Evaluation\n",
    "           1. Quadratic Weighted Kappa function from skll library used to classify the error\n",
    "           "
   ]
  },
  {
   "cell_type": "markdown",
   "metadata": {
    "slideshow": {
     "slide_type": "slide"
    }
   },
   "source": [
    "# Data exploration - Life Insurance\n",
    "\n",
    "Basic statistics, histograms and scatter plots were created to determine useful features for use in the machine learning algorithms."
   ]
  },
  {
   "cell_type": "markdown",
   "metadata": {
    "slideshow": {
     "slide_type": "slide"
    }
   },
   "source": [
    "## Descriptive statistics\n",
    "\n",
    "There are 59380 rows in the dataset. Detailed descriptive statistics can be seen in the following notebook: capstone-data-story-project.ipynb"
   ]
  },
  {
   "cell_type": "markdown",
   "metadata": {
    "slideshow": {
     "slide_type": "slide"
    }
   },
   "source": [
    "## Scatter matrix plot of Response, Ht, BMI, Ins_Age, Product_Info_2, Medical_Keyword_Sum\n",
    "\n",
    "![caption](images/scatter_matrix/Response_scatter_matrix_2016-03-06.png)"
   ]
  },
  {
   "cell_type": "markdown",
   "metadata": {
    "slideshow": {
     "slide_type": "slide"
    }
   },
   "source": [
    "## Histograms\n",
    "Histograms were created for all the features and the following were selected to be the most interesting."
   ]
  },
  {
   "cell_type": "markdown",
   "metadata": {
    "slideshow": {
     "slide_type": "slide"
    }
   },
   "source": [
    "### Product_Info_2 Categorical data set\n",
    "\n",
    "![caption](images/hist_Product_Info_2.png)\n",
    "\n",
    "* Shows an exponental distribution of categories\n",
    "* Categories could be normalized and rearranged to make it normally distributed\n",
    "* The D3 category is a very common occurance across all risk levels"
   ]
  },
  {
   "cell_type": "markdown",
   "metadata": {
    "slideshow": {
     "slide_type": "subslide"
    }
   },
   "source": [
    "### Product_Info_4 Continuous data set\n",
    "\n",
    "![caption](images/hist_product_info_4.png)\n",
    "* I suspect this may be related to the cost of a life insurance plan.\n",
    "* Values between 0.2 and 0.3 are common occurences."
   ]
  },
  {
   "cell_type": "markdown",
   "metadata": {
    "slideshow": {
     "slide_type": "subslide"
    }
   },
   "source": [
    "### Risk response\n",
    "![caption](images/hist_norm_Response.png)\n",
    "\n",
    "* Risk rating 8 is the most common type\n",
    "* Very small occurrences of Risk rating 3 and 5\n",
    "* There are an uneven number of datasets for each risk rating which suggests classification issues through the ML algorithms may be encountered."
   ]
  },
  {
   "cell_type": "markdown",
   "metadata": {
    "slideshow": {
     "slide_type": "slide"
    }
   },
   "source": [
    "### Further histogram exploration\n",
    "\n",
    "Histograms of selected features created at each response rating (1-8) are shown as follows"
   ]
  },
  {
   "cell_type": "markdown",
   "metadata": {
    "slideshow": {
     "slide_type": "slide"
    }
   },
   "source": [
    " ### 'Ht' feature - Risk response 1-8\n",
    "\n",
    "\n",
    "![caption](images/Ht/1_hist_Response_Ht_-2016-03-06.png)\n",
    "![caption](images/Ht/2_hist_Response_Ht_-2016-03-06.png)\n",
    "![caption](images/Ht/3_hist_Response_Ht_-2016-03-06.png)\n",
    "![caption](images/Ht/4_hist_Response_Ht_-2016-03-06.png)\n",
    "![caption](images/Ht/5_hist_Response_Ht_-2016-03-06.png)\n",
    "![caption](images/Ht/6_hist_Response_Ht_-2016-03-06.png)\n",
    "![caption](images/Ht/7_hist_Response_Ht_-2016-03-06.png)\n",
    "![caption](images/Ht/8_hist_Response_Ht_-2016-03-06.png)"
   ]
  },
  {
   "cell_type": "markdown",
   "metadata": {
    "slideshow": {
     "slide_type": "slide"
    }
   },
   "source": [
    "### 'BMI' feature \n",
    "\n",
    "![caption](images/BMI/1_hist_Response_BMI_-2016-03-06.png)\n",
    "![caption](images/BMI/2_hist_Response_BMI_-2016-03-06.png)\n",
    "![caption](images/BMI/3_hist_Response_BMI_-2016-03-06.png)\n",
    "![caption](images/BMI/4_hist_Response_BMI_-2016-03-06.png)\n",
    "![caption](images/BMI/5_hist_Response_BMI_-2016-03-06.png)\n",
    "![caption](images/BMI/6_hist_Response_BMI_-2016-03-06.png)\n",
    "![caption](images/BMI/7_hist_Response_BMI_-2016-03-06.png)\n",
    "![caption](images/BMI/8_hist_Response_BMI_-2016-03-06.png)"
   ]
  },
  {
   "cell_type": "markdown",
   "metadata": {
    "slideshow": {
     "slide_type": "slide"
    }
   },
   "source": [
    "### 'Ins_Age' feature \n",
    "\n",
    "![caption](images/Ins_Age/1_hist_Response_Ins_Age_-2016-03-06.png)\n",
    "![caption](images/Ins_Age/2_hist_Response_Ins_Age_-2016-03-06.png)\n",
    "![caption](images/Ins_Age/3_hist_Response_Ins_Age_-2016-03-06.png)\n",
    "![caption](images/Ins_Age/4_hist_Response_Ins_Age_-2016-03-06.png)\n",
    "![caption](images/Ins_Age/5_hist_Response_Ins_Age_-2016-03-06.png)\n",
    "![caption](images/Ins_Age/6_hist_Response_Ins_Age_-2016-03-06.png)\n",
    "![caption](images/Ins_Age/7_hist_Response_Ins_Age_-2016-03-06.png)\n",
    "![caption](images/Ins_Age/8_hist_Response_Ins_Age_-2016-03-06.png)"
   ]
  },
  {
   "cell_type": "markdown",
   "metadata": {
    "slideshow": {
     "slide_type": "slide"
    }
   },
   "source": [
    "### 'Product_Info_2' feature\n",
    "![caption](images/Product_Info_2/1_hist_Response_Product_Info_2_-2016-03-06.png)\n",
    "![caption](images/Product_Info_2/2_hist_Response_Product_Info_2_-2016-03-06.png)\n",
    "![caption](images/Product_Info_2/3_hist_Response_Product_Info_2_-2016-03-06.png)\n",
    "![caption](images/Product_Info_2/4_hist_Response_Product_Info_2_-2016-03-06.png)\n",
    "![caption](images/Product_Info_2/5_hist_Response_Product_Info_2_-2016-03-06.png)\n",
    "![caption](images/Product_Info_2/6_hist_Response_Product_Info_2_-2016-03-06.png)\n",
    "![caption](images/Product_Info_2/7_hist_Response_Product_Info_2_-2016-03-06.png)\n",
    "![caption](images/Product_Info_2/8_hist_Response_Product_Info_2_-2016-03-06.png)"
   ]
  },
  {
   "cell_type": "markdown",
   "metadata": {
    "slideshow": {
     "slide_type": "slide"
    }
   },
   "source": [
    "### 'Medical Keyword Sum' feature\n",
    "![caption](images/Medical_Keyword_Sum/1_hist_Response_Medical_Keyword_Sum_-2016-03-06.png)\n",
    "![caption](images/Medical_Keyword_Sum/2_hist_Response_Medical_Keyword_Sum_-2016-03-06.png)\n",
    "![caption](images/Medical_Keyword_Sum/3_hist_Response_Medical_Keyword_Sum_-2016-03-06.png)\n",
    "![caption](images/Medical_Keyword_Sum/4_hist_Response_Medical_Keyword_Sum_-2016-03-06.png)\n",
    "![caption](images/Medical_Keyword_Sum/5_hist_Response_Medical_Keyword_Sum_-2016-03-06.png)\n",
    "![caption](images/Medical_Keyword_Sum/6_hist_Response_Medical_Keyword_Sum_-2016-03-06.png)\n",
    "![caption](images/Medical_Keyword_Sum/7_hist_Response_Medical_Keyword_Sum_-2016-03-06.png)\n",
    "![caption](images/Medical_Keyword_Sum/8_hist_Response_Medical_Keyword_Sum_-2016-03-06.png)"
   ]
  },
  {
   "cell_type": "markdown",
   "metadata": {
    "slideshow": {
     "slide_type": "slide"
    }
   },
   "source": [
    "# Data cleaning & preparation"
   ]
  },
  {
   "cell_type": "markdown",
   "metadata": {
    "slideshow": {
     "slide_type": "subslide"
    }
   },
   "source": [
    "## NaN replacement \n",
    "\n",
    "The following features had NaN values in their respective columns of data:\n",
    "\n",
    "\n",
    "Feature |\tNaN count\n",
    "-------- |  ------------\n",
    "Employment_Info_1   |      19\n",
    "Employment_Info_4    |   6779\n",
    "Employment_Info_6     | 10854\n",
    "Insurance_History_5  |  25396\n",
    "Family_Hist_2        |  28656\n",
    "Family_Hist_3        |  34241\n",
    "Family_Hist_4        |  19184\n",
    "Family_Hist_5        |  41811\n",
    "Medical_History_1    |   8889\n",
    "Medical_History_10   |  58824\n",
    "Medical_History_15   |  44596\n",
    "Medical_History_24   |  55580\n",
    "Medical_History_32   |  58274\n",
    "\n",
    "As no datum had a -1 value, all NaN values were replaced with a -1."
   ]
  },
  {
   "cell_type": "markdown",
   "metadata": {
    "slideshow": {
     "slide_type": "subslide"
    }
   },
   "source": [
    "## Data normalization\n",
    "\n",
    "As Product_Info_2 had string datatypes, the string categories were associated with an enumerated dummy variable set.  All columns that had NaN values had been replaced with a -1.  The goal was to convert the data set into integer values in order to be normalized and used in the linear regression algorithms.  A min-max scaler operation was performed on all the categorical and discrete datasets."
   ]
  },
  {
   "cell_type": "markdown",
   "metadata": {
    "slideshow": {
     "slide_type": "subslide"
    }
   },
   "source": [
    "## Data split into test-training sets\n",
    "\n",
    "The dataset was split into risk rating groups because the end goal is to predict risk rating from a test data set.\n",
    "\n",
    "The first \"len(group)/100\" portion of each risk rating group was pooled into a test data frame, and the remaning into a training data frame.  This was performed in a loop, however the cross-validation library in sklearn would be a better option to perform the data split-test.  "
   ]
  },
  {
   "cell_type": "markdown",
   "metadata": {
    "slideshow": {
     "slide_type": "slide"
    }
   },
   "source": [
    "# Predictive modelling - Life Insurance\n",
    "\n",
    "After cleaning, NaN conversion, normalization,and splitting, the training and test data set were split into an X data sets and a Y data set.  The Y data set was the normalized risk rating feature, and the X data set were the other remaining features.  These were converted to numpy arrays for classifier fitting and prediction.  After fitting and prediction, the normalized risk rating values were transformed back into their risk rating categories from 1-8.  \n",
    "\n",
    "Lasso linear regression and random forest classifiers were used to fit the training data sets.  The QWK was determined for each test data set and compared to the top QWK score from Kaggle. "
   ]
  },
  {
   "cell_type": "markdown",
   "metadata": {
    "slideshow": {
     "slide_type": "subslide"
    }
   },
   "source": [
    "## Evaluation criteria - Quadratic Weighted Kappa\n",
    "\n",
    "Accuracy_score, mean_squared_error and Quadratic Weighted Kappa were considred to evaluate the classifier.  QWK was the method used to evaluate because it was most appropirate for evaluating how well a classifier.  The QWK score was then determined comparing the predicted and actual values for the test data set.  "
   ]
  },
  {
   "cell_type": "markdown",
   "metadata": {
    "slideshow": {
     "slide_type": "subslide"
    }
   },
   "source": [
    "## Lasso Linear Regression modelling\n",
    "\n",
    "* The C value tunes the importance of the L2 regularization parameter.\n",
    "* Tuned with alpha value from 0 to 0.0099\n",
    "* A very low alpha suggests high variance and the algorithm is being over fitted. \n",
    "* Need to reduce the features to make the algorithm more generalized.\n",
    "\n",
    "Regularization reduces the overfitting problem\n",
    "\n",
    "* L1 regularization - Lasso regression - a low alpha reduces the norm size of the input variables.  \n",
    "* L2 regularization - spreads out the shrinkage so all the interdependent variables are equally influential\n",
    "* The alpha variable affects the regularization of the linear regression model.  "
   ]
  },
  {
   "cell_type": "markdown",
   "metadata": {
    "slideshow": {
     "slide_type": "subslide"
    }
   },
   "source": [
    "## Random Forest Classifier modelling\n",
    "* Tuned with 0 to 1000 estimators"
   ]
  },
  {
   "cell_type": "markdown",
   "metadata": {
    "slideshow": {
     "slide_type": "slide"
    }
   },
   "source": [
    "## Classifier Results"
   ]
  },
  {
   "cell_type": "markdown",
   "metadata": {
    "slideshow": {
     "slide_type": "subslide"
    }
   },
   "source": [
    "### alpha/time vs. kappa: linear lasso - test#1\n",
    "\n",
    "\talpha\tkappa\ttime\n",
    "count\t50.000000\t50.000000\t50.00000\n",
    "mean\t0.050000\t0.162239\t0.47140\n",
    "std\t0.029155\t0.086191\t0.09196\n",
    "min\t0.001000\t0.111002\t0.36900\n",
    "25%\t0.025500\t0.116683\t0.41125\n",
    "50%\t0.050000\t0.126014\t0.44200\n",
    "75%\t0.074500\t0.146227\t0.49200\n",
    "max\t0.099000\t0.461167\t0.79400\n",
    "\n",
    "![caption](images/scatterLasso_alpha_kappa_test1.png)"
   ]
  },
  {
   "cell_type": "markdown",
   "metadata": {
    "slideshow": {
     "slide_type": "subslide"
    }
   },
   "source": [
    "# alpha/time vs. kappa: linear lasso: test2\n",
    "\n",
    "\talpha\tkappa\ttime\n",
    "count\t50.000000\t50.000000\t50.000000\n",
    "mean\t0.005000\t0.386544\t1.049080\n",
    "std\t0.002915\t0.049576\t2.596456\n",
    "min\t0.000100\t0.309687\t0.524000\n",
    "25%\t0.002550\t0.340325\t0.618250\n",
    "50%\t0.005000\t0.384313\t0.651500\n",
    "75%\t0.007450\t0.430685\t0.680500\n",
    "max\t0.009900\t0.473927\t19.014000\n",
    "\n",
    "![caption](images/scatterLasso_alpha_kappa_test2.png)"
   ]
  },
  {
   "cell_type": "markdown",
   "metadata": {
    "slideshow": {
     "slide_type": "subslide"
    }
   },
   "source": [
    "# Estimators/Time vs. kappa: RandomForest: Test1\n",
    "\n",
    "\test\tkappa\ttime\n",
    "count\t10.000000\t10.000000\t10.000000\n",
    "mean\t46.000000\t0.337425\t19.335500\n",
    "std\t30.276504\t0.035419\t13.075482\n",
    "min\t1.000000\t0.259207\t0.530000\n",
    "25%\t23.500000\t0.325625\t9.757500\n",
    "50%\t46.000000\t0.346819\t18.733000\n",
    "75%\t68.500000\t0.358949\t28.620500\n",
    "max\t91.000000\t0.376106\t41.517000\n",
    "\n",
    "![caption](images/RFC_scatter_alpha_kappa_test1.png)"
   ]
  },
  {
   "cell_type": "markdown",
   "metadata": {
    "slideshow": {
     "slide_type": "subslide"
    }
   },
   "source": [
    "# Estimators/Time vs. kappa: RandomForest: Test2\n",
    "\n",
    "\test\tkappa\ttime\n",
    "count\t9.000000\t9.000000\t9.000000\n",
    "mean\t500.000000\t0.357689\t210.043556\n",
    "std\t273.861279\t0.006708\t114.229644\n",
    "min\t100.000000\t0.346036\t42.440000\n",
    "25%\t300.000000\t0.357782\t123.817000\n",
    "50%\t500.000000\t0.358111\t214.093000\n",
    "75%\t700.000000\t0.362640\t291.163000\n",
    "max\t900.000000\t0.366685\t356.299000\n",
    "\n",
    "![caption](images/RFC_scatter_alpha_kappa_test2.png)"
   ]
  },
  {
   "cell_type": "markdown",
   "metadata": {
    "slideshow": {
     "slide_type": "slide"
    }
   },
   "source": [
    "## Discussion of results\n",
    "\n",
    "The data shows that the linear lasso algorithm performed prediction faster and resulted in a higher QWK score than random forest.  I had predicted that random forest would perform better in the QWK scoring with more estimators; although this was not the case. Linear lasso classifier had a higher QWK score although the alpha value of 0.0099 suggests the algorithm is over-fitting the data.  "
   ]
  },
  {
   "cell_type": "markdown",
   "metadata": {
    "slideshow": {
     "slide_type": "slide"
    }
   },
   "source": [
    "# Insurance brokerage: Problem description\n",
    "\n",
    "My client is an insurance broker and has been in business for 21 years.  They have collected a significant amount of data on their clients, insurance agencies, products and sales representatives over the past 20 years. Due to confidentiality concerns, I cannot release any data although the strategies imployed will be discussed. \n",
    "\n",
    "By being able to find risk rating correlations between life insurance applicants, I can use the methods learned in this course and project to facilitate a discussion on how my client’s problem of improving retention can be resolved using similar methods.\n",
    "\n",
    "I explored their Applied Systems TAMS software (a insurance brokerage management tool).  The tool produces client proudct summaries, claims revenue, sales summaries, and accounting reports.  It can export into CSV. "
   ]
  },
  {
   "cell_type": "markdown",
   "metadata": {
    "slideshow": {
     "slide_type": "subslide"
    }
   },
   "source": [
    "The deliverables were a memo outlining an approach to solving my client’s retention problem. and a machine learning algorithm for predicting risk response in the Kaggle dataset. A portion of the Email memo is attached in the Appendix.  \n",
    "\n",
    "In the context of this project, the goal is to determine what tasks would be useful in a data science project that could help my insurance broker client meet their company goals.  "
   ]
  },
  {
   "cell_type": "markdown",
   "metadata": {
    "slideshow": {
     "slide_type": "slide"
    }
   },
   "source": [
    "## Methods and Analysis\n",
    "\n",
    "The following steps were taken to prepare a data analytics project proposal:\n",
    "\n",
    "1. Interviews conducted with CEO and CFO\n",
    "    1. Determined key company goals for the year\n",
    "        1. Retain 90% of clients on renewal every month.\n",
    "        1. Grow client base by X% every month (X needs to be determined).\n",
    "        1. Cut overhead costs by 10%.\n",
    "1. Discussed financial and operational health of the company.\n",
    "    1. Company overhead was 70%\n",
    "    1. Top 10% of producers/sales people are the CEO and 3 long term employees\n",
    "        1.  Opportunities for training and development for rising stars.\n",
    "1. Provided information and education on data analytics \n",
    "    1. Industry trends in adopting data analytics for the insurance.\n",
    "    1. Methodologies and procedures to perform data analytics.\n",
    "    1. Useful outcomes to make decisions in the insurance business.\n",
    "1. Preparation of data analytics project proposal\n",
    "    1. Observational summary\n",
    "    1. Data analaytics project recommendation"
   ]
  },
  {
   "cell_type": "markdown",
   "metadata": {
    "slideshow": {
     "slide_type": "slide"
    }
   },
   "source": [
    "## Observational summary \n",
    "\n",
    "The following was submitted to the company after interviews were conducted.  \n",
    "\n",
    "* Applied Systems TAM major issues:\n",
    "    * Under utlization of useful reports ie. Marketing, activity, call reports etc.\n",
    "    * Duplicate/incorrect/missing data\n",
    "    * Poor logging of management, producer and CSR activities\n",
    "* Strategic retention plan required for your major renewal cycle from March – September is approaching.  Plan?\n",
    "* Developing the employee handbook and operational policies are key initiatives.\n",
    "* The Insurance Brokerage earns about 12.5% commission revenue on Personal lines and 7%-17% commission revenue on Commercial.   \n",
    "    * Higher commission is earned on new business; growth strategy could focus on markets that offer balance between retention risk, claims risk and high commission revenue\n",
    "* Limited performance/development incentives for CSRs and producers who are not named CEO, TopRep A or TopRep B (Names replaced for privacy)\n",
    "    * There are opportunities for personal to commercial cross-sells at renewals\n",
    "* Clients are observed to be happy with company service \n",
    "* Company culture is A+; Employees are generally happy; they respect your management team and reception is good at taking care of walk-ins clients\n"
   ]
  },
  {
   "cell_type": "markdown",
   "metadata": {
    "slideshow": {
     "slide_type": "slide"
    }
   },
   "source": [
    "## Data analytics project - Phase 1"
   ]
  },
  {
   "cell_type": "markdown",
   "metadata": {
    "slideshow": {
     "slide_type": "slide"
    }
   },
   "source": [
    "### Project proposal details \n",
    "\n",
    "After observing the client's database I came to the following workflow and processes to assist my client in meeting their business goals.  \n",
    "\n",
    " 1.\tData cleanup/transformation.  \n",
    "    1.\tObserved duplicates, missing data, information not properly filled in etc.\n",
    "    1.\tNeed to investigate platform on how to perform mass changes and what is required to be changed.\n",
    "        1.\tThe SQL database can be directly queried if Applied Systems TAMS approves database read/write access. \n",
    " 2.  Data exploration\n",
    "    1.\tPerform ETL processes on TAM data using Python\n",
    "    1.\tIdentification of data types (continuous, discrete, categorical etc.)\n",
    "    1.\tIdentification of data features related to retention and cross-selling goals\n",
    " 3.\tData analytics\n",
    "    1.  Basic descriptive statistics on \n",
    "      1.  products\n",
    "      1.  representatives\n",
    "      1.  sales activities\n",
    "      1.  claims losses\n",
    "      1.  premium revenues\n",
    "    1. Basic Tables/charts -> top 20%, histograms, pie charts\n",
    "    1. Retention rates of different premium brackets\n",
    "       1.  New policies/Total policies, Lost policies/Total Policies  \n",
    "\t1. Customer segments (building 1st and 2nd  order models)\n",
    "       1,  Preimum brackets\n",
    "       1.  Combinations of meta data \n",
    "           1.  Income brackets, postal code, city, province, gender, age, personal? commercial? both?\n",
    "\t1. Discrete, continuous, and categorical time series signatures of “customer features”.  \n",
    "    1. Experimentation with machine learning and predictive models using simple linear regression, random forest and decision trees.\n",
    " 4.\tData visualization\n",
    "    1.\tExcel, Qlikview, or Tableau dashboards… TBD after exploration and further needs assessments\n",
    " 5.\tManagement Consulting\n",
    "    1.\tRecommending reporting, decision-making and operating procedures/policies on retention and product cross-selling\n",
    "    1.\tIdentifying an appropriate reporting and analytics toolchain and workflow for the company "
   ]
  },
  {
   "cell_type": "markdown",
   "metadata": {
    "slideshow": {
     "slide_type": "subslide"
    }
   },
   "source": [
    "### Personal and commercial lines data table\n",
    "\n",
    "The project would be to create Python scripts that extract and process the data from the reports that are generated from the TAMs platform.  The dataset structure would be similar to life insurance project data set.  For the personal lines business, an example of the features to generate would be:\n",
    "\n",
    "* Customer ID\n",
    "* Producer_ID (person who manages the client account)\n",
    "* CSR_ID (customer service assistant to Producer_ID)\n",
    "* 1st contact date\n",
    "* 1st premium date \n",
    "* Final premium date\n",
    "* Insurance product (1-XXX) date added\n",
    "* Insurnace product (1-XXX) date removed\n",
    "* Postal code\n",
    "* Income bracket\n",
    "* Gender\n",
    "\n",
    "A very similar dataset for commercial would be made."
   ]
  },
  {
   "cell_type": "markdown",
   "metadata": {
    "slideshow": {
     "slide_type": "subslide"
    }
   },
   "source": [
    "### Actionable intelligence\n",
    "\n",
    "Data can be normalized and secured for confidentiality for off-site analysis.  The following information could be derived below:\n",
    "\n",
    "* Descriptive and inferential statistics on all the features.\n",
    "* Retention rates between different premium brackets \n",
    "* Customer segments (building 1st and 2nd  order models) \n",
    "* Discrete, continuous, and categorical time series signatures of “customer features”.  \n",
    "\n",
    "Time series data signatures to consider: \n",
    "\n",
    "* Day of week\n",
    "* Month of year\n",
    "* Quarter of the year"
   ]
  },
  {
   "cell_type": "markdown",
   "metadata": {
    "slideshow": {
     "slide_type": "subslide"
    }
   },
   "source": [
    "### Unique value proposition\n",
    "\n",
    "The information derived can provide “actionable intelligence” for The Insurance Brokerage; the critical and key deliverable to meet retention and progressive growth goals.\n",
    "\n",
    "A few “actionable intelligence” measures are to use different perspective lenses of when financial decisions are made by The Insurance Brokerage, customers, companies, industry etc.\n",
    "\n",
    "Customer segments can be compared in different premium brackets, income brackets, product line combinations, or renewal times of the year.\n",
    "\n",
    "The customer who cancel after 1 year, 2 years, 3 years etc. can be explored.  A predictive model can be made to determine which clients are prone to cancelling after a certain time period.  \n",
    "\n",
    "The unique value is that you can determine the order of the high revenue-low claims risk clients that are predicted most likely to cancel during the renewal period.  The retention strategy would focus on ensuring these clients are taken care of."
   ]
  },
  {
   "cell_type": "markdown",
   "metadata": {
    "slideshow": {
     "slide_type": "slide"
    }
   },
   "source": [
    "# Lessons learned"
   ]
  },
  {
   "cell_type": "markdown",
   "metadata": {
    "slideshow": {
     "slide_type": "subslide"
    }
   },
   "source": [
    "### Data wrangling\n",
    "\n",
    "1. Learned the difficulty in processing data for fitting machine learning algorithms\n",
    "1. Collected a lot of good code snippets to aid in future work\n",
    "1. When installing packages through a Windows-based Anaconda environment, use the 'conda install' command rather than 'pip install' to perform the package install.  I installed the 'skll' package using pip and my package environment was compromised, so I had to manually remove packages and reinstall many of them to work out the module error bugs in the code."
   ]
  },
  {
   "cell_type": "markdown",
   "metadata": {
    "slideshow": {
     "slide_type": "subslide"
    }
   },
   "source": [
    "### Predictive Model Improvements\n",
    "\n",
    "To further improve the predictive model I would perform the following in the future:\n",
    "\n",
    "1. Split data set into 70% train and 30% test using the Cross Validation package.\n",
    "1. Select partial features to train the classifiers.  Product_Info_2, Product_Info_4, Ins_Agea and Medical_Keyword_Sum look like promising base features to include.  Employement_Info and Insure_History would need to be explored in more detail.\n",
    "1. Use LassoCV to perform some further cross validation checks for linear regression.\n",
    "1. Tune the random forest.  Reduce the number of branches for faster processing.\n",
    "1. Tune lasso with alpha of magnitudes greater than 1.\n",
    "1. Create scatter plots of Response vs. each label then explore R^2 relationships.\n",
    "1. Try replacing NaN values with 0 or disregard the NaNs in data set when fitting."
   ]
  },
  {
   "cell_type": "markdown",
   "metadata": {
    "slideshow": {
     "slide_type": "subslide"
    }
   },
   "source": [
    "### Client Interactions\n",
    "\n",
    "1. Present more visual information to the client than textual information.\n",
    "1. Present information in a single memo or proposal, than multiple submissions of information.\n",
    "1. Reduce technical jargon and present information in simple terms.\n",
    "1. Estimate work and present a proposal faster."
   ]
  },
  {
   "cell_type": "markdown",
   "metadata": {
    "slideshow": {
     "slide_type": "slide"
    }
   },
   "source": [
    "# Conclusion"
   ]
  },
  {
   "cell_type": "markdown",
   "metadata": {
    "slideshow": {
     "slide_type": "subslide"
    }
   },
   "source": [
    "## Life Insurance\n",
    "The Prudential life insurance data set offered a good basis to learn and apply data analytics methodologies using Python, data analysis, visualization and predictive modelling libraries.  The goal was to determine a predictive model for risk rating prediction and classification.  \n",
    "\n",
    "Histograms and a scatter plot matrix were created to explore the relationships between risk rating and other data features.  The data set consisted of categorical, continuous and discrete datasets that were processed for NaN values and normalized.  Lasso linear regression and random forest classifiers were used. Quadratic Weighted Kappa (QWK) was used to evaluate classifier performance as the risk ratings were categorical. \n",
    "\n",
    "The lasso linear regression offered the fastest training time and best QWK value of 0.473 with an alpha value of 0.0099.  The model is acceptable because an appropirate QWK score was determined. This model did not perform well because the low alpha value suggests overfitting and the QWK value placed 2300/2619 out of all the scores in the Kaggle competition.  The top score was 0.679.  By reducing the features used the algorithm can be improved and fine tuned to approach the top score.\n",
    "\n",
    "As the dataset given was fairly clean and has similar features to that of my insurnace broker's data, the life insurance project forms a good outline on how a predictive modelling project could be applied to the insurance brokers data."
   ]
  },
  {
   "cell_type": "markdown",
   "metadata": {
    "slideshow": {
     "slide_type": "subslide"
    }
   },
   "source": [
    "## Insurance brokerage\n",
    "\n",
    "Through managerial interviews and observations of the insurance brokerage, a realistic and feasible data project was determined.  The primary goal of the project is to help form the brokers' retention strategy.  Data would be extracted from the brokers' TAMS platform (an insurance brokerage customer management program) where various managerial reports could be exported as CSV files.  The CSV files could be processed to create a similar data table to that of the Prudential Life Insurance data set.  Product lines, sales persons associated with accounts, and premium start and end dates were determined to be useful features for retention goals.  Descriptive statistics on various customer segments can be useful in determining the retenton goals for the brokerage.  The most useful intelligence would be to determine what features of the datasets contribute the most to a customer cancelling a policy after one, two and three years.  Predicting the most valuable customers prone to cancelling would form the basis of the retention strategy.\n",
    "\n",
    "The client has showed interest in performing this project although they are not convinced it is a feasible venture at this time.  They are interested in knowing how a predictive model can help aid in retention.  I will approach the client again in the upcoming months in regards to the project.\n",
    "\n",
    "Overall, the project was a useful learning tool in applying data analysis using Pandas and machine learning using Sci-kit learn.  "
   ]
  },
  {
   "cell_type": "markdown",
   "metadata": {
    "slideshow": {
     "slide_type": "slide"
    }
   },
   "source": [
    "## Thanks\n",
    "\n",
    "I would like to thank Hobson Lane for his mentorship in completing this project and appreciate the support, understanding and patience he has given.  In most of the 30 min mentor sessions, we were able to communicate well and I received a lot of useful information from him on the world of machine learning.  His knowledge, expertise and insane level of intelligence was very helpful in boosting my understanding of the concepts.  \n",
    "\n",
    "I also thank Springboard for organizing quality content to learn \"intensively\" the fundamentals of data science and machine learning.  The capstone project allowed me to learn Python, Pandas, Sci-kit learn and other data analysis fundamentals."
   ]
  },
  {
   "cell_type": "markdown",
   "metadata": {
    "slideshow": {
     "slide_type": "slide"
    }
   },
   "source": [
    "# References\n",
    "\n",
    "http://www.analyticsvidhya.com/blog/2015/08/common-machine-learning-algorithms/\n",
    "\n",
    "http://scikit-learn.org/stable/modules/linear_model.html#lasso\n",
    "\n",
    "https://www.kaggle.com/c/prudential-life-insurance-assessment"
   ]
  }
 ],
 "metadata": {
  "celltoolbar": "Slideshow",
  "kernelspec": {
   "display_name": "Python 2",
   "language": "python",
   "name": "python2"
  },
  "language_info": {
   "codemirror_mode": {
    "name": "ipython",
    "version": 2
   },
   "file_extension": ".py",
   "mimetype": "text/x-python",
   "name": "python",
   "nbconvert_exporter": "python",
   "pygments_lexer": "ipython2",
   "version": "2.7.11"
  }
 },
 "nbformat": 4,
 "nbformat_minor": 0
}
